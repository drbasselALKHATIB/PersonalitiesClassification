{
 "cells": [
  {
   "cell_type": "code",
   "execution_count": 1,
   "metadata": {},
   "outputs": [
    {
     "data": {
      "text/html": [
       "<div>\n",
       "<style scoped>\n",
       "    .dataframe tbody tr th:only-of-type {\n",
       "        vertical-align: middle;\n",
       "    }\n",
       "\n",
       "    .dataframe tbody tr th {\n",
       "        vertical-align: top;\n",
       "    }\n",
       "\n",
       "    .dataframe thead th {\n",
       "        text-align: right;\n",
       "    }\n",
       "</style>\n",
       "<table border=\"1\" class=\"dataframe\">\n",
       "  <thead>\n",
       "    <tr style=\"text-align: right;\">\n",
       "      <th></th>\n",
       "      <th>tweet</th>\n",
       "      <th>topic</th>\n",
       "    </tr>\n",
       "  </thead>\n",
       "  <tbody>\n",
       "    <tr>\n",
       "      <th>0</th>\n",
       "      <td>@sssdddnnn333 @MohammedAlDeaye حارس حتى عنده ض...</td>\n",
       "      <td>Sports</td>\n",
       "    </tr>\n",
       "    <tr>\n",
       "      <th>1</th>\n",
       "      <td>RT @Alhilal_FC: ⏰ بداية الشوط الثاني\\n#الهلال ...</td>\n",
       "      <td>Sports</td>\n",
       "    </tr>\n",
       "    <tr>\n",
       "      <th>2</th>\n",
       "      <td>RT @fahadaljehani: الكثير من المتعة كانت حاضره...</td>\n",
       "      <td>Sports</td>\n",
       "    </tr>\n",
       "    <tr>\n",
       "      <th>3</th>\n",
       "      <td>RT @aboaljorya: @AhmedAllshehri عذيب 👀\\nالسعر ...</td>\n",
       "      <td>Business</td>\n",
       "    </tr>\n",
       "    <tr>\n",
       "      <th>4</th>\n",
       "      <td>RT @salem_d29: الحمدلله ، شعوري لا يوصف ، ولن ...</td>\n",
       "      <td>Sports</td>\n",
       "    </tr>\n",
       "  </tbody>\n",
       "</table>\n",
       "</div>"
      ],
      "text/plain": [
       "                                               tweet     topic\n",
       "0  @sssdddnnn333 @MohammedAlDeaye حارس حتى عنده ض...    Sports\n",
       "1  RT @Alhilal_FC: ⏰ بداية الشوط الثاني\\n#الهلال ...    Sports\n",
       "2  RT @fahadaljehani: الكثير من المتعة كانت حاضره...    Sports\n",
       "3  RT @aboaljorya: @AhmedAllshehri عذيب 👀\\nالسعر ...  Business\n",
       "4  RT @salem_d29: الحمدلله ، شعوري لا يوصف ، ولن ...    Sports"
      ]
     },
     "execution_count": 1,
     "metadata": {},
     "output_type": "execute_result"
    }
   ],
   "source": [
    "# https://colab.research.google.com/drive/1D0J2UK4hXAlwpy5NeD4-6lq-ClJJxSwW?usp=sharing\n",
    "\n",
    "import pandas as pd\n",
    "# قراءة التغريدات وتحميلها ضمن إطار من البيانات \n",
    "tweets = pd.read_csv('tweets.csv',encoding = \"utf-8\")\n",
    "# إظهار الجزء الأعلى من إطار البيانات\n",
    "tweets.head()"
   ]
  },
  {
   "cell_type": "code",
   "execution_count": 2,
   "metadata": {},
   "outputs": [
    {
     "name": "stdout",
     "output_type": "stream",
     "text": [
      "Data size: (26748, 2)\n"
     ]
    }
   ],
   "source": [
    "print('Data size:', tweets.shape)"
   ]
  },
  {
   "cell_type": "code",
   "execution_count": 3,
   "metadata": {},
   "outputs": [],
   "source": [
    "# مكتبة  السلاسل النصية \n",
    "import string\n",
    "# مكتبة التعابير النظامية\n",
    "import re\n",
    "# مكتبة معالجة اللغات الطبيعية\n",
    "import nltk\n",
    "#nltk.download('punkt')\n",
    "#nltk.download('stopwords')\n",
    "# مكتبة  كلمات التوقف\n",
    "from nltk.corpus import stopwords\n",
    "# مكتبة استخراج الوحدات\n",
    "from nltk.tokenize import word_tokenize\n",
    "# مكتبة المجذع العربي\n",
    "from snowballstemmer import stemmer\n",
    "ar_stemmer = stemmer(\"arabic\")\n",
    "\n",
    "# دالة حذف المحارف غير اللازمة\n",
    "def remove_chars(text, del_chars):\n",
    "    translator = str.maketrans('', '', del_chars)\n",
    "    return text.translate(translator)\n",
    "# دالة حذف المحارف المكررة\n",
    "def remove_repeating_char(text):\n",
    "    return re.sub(r'(.)\\1{2,}', r'\\1', text)\n",
    "\n",
    "# دالة تنظيف التغريدات\n",
    "def clean_tweet(tweet):\n",
    "    stop_words = stopwords.words('arabic')\n",
    "    # محارف الرموز التعبيرية  \n",
    "    emoj = re.compile(\"[\"\n",
    "            u\"\\U0001F600-\\U0001F64F\"  \n",
    "            u\"\\U0001F300-\\U0001F5FF\"  \n",
    "            u\"\\U0001F680-\\U0001F6FF\"  \n",
    "            u\"\\U0001F1E0-\\U0001F1FF\" \n",
    "            u\"\\U00002500-\\U00002BEF\"  \n",
    "            u\"\\U00002702-\\U000027B0\"\n",
    "            u\"\\U00002702-\\U000027B0\"\n",
    "            u\"\\U000024C2-\\U0001F251\"\n",
    "            u\"\\U0001f926-\\U0001f937\"\n",
    "            u\"\\U00010000-\\U0010ffff\"\n",
    "            u\"\\u2640-\\u2642\" \n",
    "            u\"\\u2600-\\u2B55\"\n",
    "            u\"\\u200d\"\n",
    "            u\"\\u23cf\"\n",
    "            u\"\\u23e9\"\n",
    "            u\"\\u231a\"\n",
    "            u\"\\ufe0f\"  \n",
    "            u\"\\u3030\"\n",
    "            u\"\\u2066\"\n",
    "                        \"]+\", re.UNICODE)\n",
    "    tweet = str(tweet)\n",
    "    # حذف @ وما يتبعها\n",
    "    tweet = re.sub(\"@[^\\s]+\",\"\",tweet) \n",
    "    tweet = re.sub(\"RT\",\"\",tweet) \n",
    "    # حذف الروابط\n",
    "    tweet = re.sub(r\"(?:\\@|http?\\://|https?\\://|www)\\S+\", \"\", tweet)\n",
    "    # حذف الرموز التعبيرية\n",
    "    tweet =  re.sub(emoj, '', tweet)\n",
    "    # حذف كلمات التوقف\n",
    "    tweet = ' '.join(word for word in tweet.split() if word not in stop_words) \n",
    "    # حذف الإشارات #\n",
    "    tweet = tweet.replace(\"#\", \"\").replace(\"_\", \" \") \n",
    "    # حذف الأرقام\n",
    "    tweet = re.sub(r'[0-9]+', '', tweet)  \n",
    "    # حذف المحارف غير اللازمة\n",
    "    # علامات الترقيم العربية\n",
    "    arabic_punctuations = '''`÷×؛<>_()*&^%][ـ،/:\"؟.,'{}~¦+|!”…“–ـ'''\n",
    "    # علامات الترقيم الانكليزية\n",
    "    english_punctuations = string.punctuation\n",
    "    # دمج علامات الترقيم العربية والانكليزية\n",
    "    punctuations_list = arabic_punctuations + english_punctuations\n",
    "    tweet = remove_chars(tweet, punctuations_list)\n",
    "    # حذف المحارف المكررة  \n",
    "    tweet = remove_repeating_char(tweet)\n",
    "    # استبدال الأسطر الجديدة بفراغات  \n",
    "    tweet = tweet.replace('\\n', ' ')  \n",
    "    # حذف الفراغات الزائدة من اليمين واليسار   \n",
    "    tweet = tweet.strip(' ')  \n",
    "    return tweet\n",
    "\n",
    "# دالة تقسيم النص إلى مجموعة من الوحدات\n",
    "def tokenizingText(text): \n",
    "    tokens_list = word_tokenize(text) \n",
    "    return tokens_list\n",
    "\n",
    "# دالة حذف كلمات التوقف\n",
    "def filteringText(tokens_list):  \n",
    "    # قائمة كلمات التوقف العربية\n",
    "    listStopwords = set(stopwords.words('arabic'))\n",
    "    filtered = []\n",
    "    for txt in tokens_list:\n",
    "        if txt not in listStopwords:\n",
    "            filtered.append(txt)\n",
    "    tokens_list = filtered \n",
    "    return tokens_list\n",
    "\n",
    "# دالة التجذيع  \n",
    "def stemmingText(tokens_list): \n",
    "    tokens_list = [ar_stemmer.stemWord(word) for word in tokens_list]\n",
    "    return tokens_list\n",
    "    \n",
    "# دالة دمج قائمة من الكلمات في جملة\n",
    "def toSentence(words_list):  \n",
    "    sentence = ' '.join(word for word in words_list)\n",
    "    return sentence"
   ]
  },
  {
   "cell_type": "code",
   "execution_count": 4,
   "metadata": {},
   "outputs": [
    {
     "name": "stdout",
     "output_type": "stream",
     "text": [
      "أنا أحب الذهاب إلى الحديقة 🌝، كل يوم 9 صباحاً، مع رفاقي هؤلاء! @toto  \n",
      "أحب الذهاب الحديقة  يوم  صباحاً رفاقي هؤلاء\n",
      "['أحب', 'الذهاب', 'الحديقة', 'يوم', 'صباحاً', 'رفاقي', 'هؤلاء']\n",
      "['أحب', 'الذهاب', 'الحديقة', 'يوم', 'صباحاً', 'رفاقي']\n",
      "['احب', 'ذهاب', 'حديق', 'يوم', 'صباح', 'رفاق']\n"
     ]
    }
   ],
   "source": [
    "# مثال\n",
    "text= \"أنا أحب الذهاب إلى الحديقة 🌝، كل يوم 9 صباحاً، مع رفاقي هؤلاء! @toto  \"\n",
    "print(text)\n",
    "text=clean_tweet(text)\n",
    "print(text)\n",
    "tokens_list=tokenizingText(text)\n",
    "print(tokens_list)\n",
    "tokens_list=filteringText(tokens_list)\n",
    "print(tokens_list)\n",
    "tokens_list=stemmingText(tokens_list)\n",
    "print(tokens_list)"
   ]
  },
  {
   "cell_type": "code",
   "execution_count": 5,
   "metadata": {},
   "outputs": [],
   "source": [
    "# دالة معالجة التغريدات\n",
    "def process_tweet(tweet):\n",
    "    # تنظيف التغريدة\n",
    "    tweet=clean_tweet(tweet)\n",
    "    # التحويل إلى وحدات\n",
    "    tweet=tokenizingText(tweet)\n",
    "    # التجذيع\n",
    "    tweet=stemmingText(tweet)\n",
    "    return tweet\n",
    "\n",
    "# المعالجة الأولية للتغريدات \n",
    "tweets['tweet'] = tweets['tweet'].apply(process_tweet)"
   ]
  },
  {
   "cell_type": "code",
   "execution_count": 6,
   "metadata": {},
   "outputs": [
    {
     "data": {
      "image/png": "[encoded data removed]",
      "text/plain": [
       "<Figure size 864x432 with 1 Axes>"
      ]
     },
     "metadata": {
      "needs_background": "light"
     },
     "output_type": "display_data"
    }
   ],
   "source": [
    "# مكتبات الرسم\n",
    "import matplotlib.pyplot as plt\n",
    "import seaborn as sns\n",
    "# حجم الرسم\n",
    "plt.figure(figsize=(12, 6))\n",
    "# رسم عدد كل صف\n",
    "sns.countplot(data=tweets, y='topic');\n",
    "plt.title('Topics Distribution', fontsize=18)\n",
    "\n",
    "plt.show()"
   ]
  },
  {
   "cell_type": "code",
   "execution_count": 7,
   "metadata": {},
   "outputs": [],
   "source": [
    "# استيراد مكتبة الموازنة\n",
    "from imblearn.over_sampling import RandomOverSampler\n",
    "# إنشاء غرض من الصف\n",
    "oversample = RandomOverSampler()\n",
    "# توليد سطر عشوائي\n",
    "tweets = tweets.sample(frac=1)\n",
    "# توليد الأسطر الجديدة\n",
    "tweets, Y = oversample.fit_resample(tweets, tweets.topic)"
   ]
  },
  {
   "cell_type": "code",
   "execution_count": 8,
   "metadata": {},
   "outputs": [
    {
     "data": {
      "image/png": "[encoded data removed]",
      "text/plain": [
       "<Figure size 864x432 with 1 Axes>"
      ]
     },
     "metadata": {
      "needs_background": "light"
     },
     "output_type": "display_data"
    }
   ],
   "source": [
    "# إعادة رسم أعداد الصفوف\n",
    "# بعد الموازنة\n",
    "plt.figure(figsize=(12, 6))\n",
    "sns.countplot(data=tweets, y='topic');\n",
    "plt.title('Topics Distribution After OverSampling', fontsize=18)\n",
    "\n",
    "plt.show()"
   ]
  },
  {
   "cell_type": "code",
   "execution_count": 9,
   "metadata": {},
   "outputs": [
    {
     "name": "stdout",
     "output_type": "stream",
     "text": [
      "No. of classes: 7\n",
      "Classes: ['Business' 'Economy' 'News' 'Politics' 'Social' 'Sports' 'Technology']\n",
      "Coding:  [0 1 2 3 4 5 6]\n"
     ]
    }
   ],
   "source": [
    "from sklearn.preprocessing import LabelEncoder\n",
    "# ترميز الصفوف\n",
    "le_topics = LabelEncoder()\n",
    "tweets['topic'] = tweets[['topic']].apply(le_topics.fit_transform)\n",
    "\n",
    "classes = le_topics.classes_ # الصفوف\n",
    "\n",
    "n_classes = len(classes) # عدد الصفوف\n",
    "print(\"No. of classes:\", n_classes)\n",
    "print(\"Classes:\", classes)\n",
    "print(\"Coding: \", le_topics.transform(classes))"
   ]
  },
  {
   "cell_type": "code",
   "execution_count": 10,
   "metadata": {},
   "outputs": [
    {
     "name": "stdout",
     "output_type": "stream",
     "text": [
      "اخو سيس ده مش يعرف يتكلم اصل حرج عل مريض\n",
      "اذا خلص اكسج وين نتنفس\n",
      "[88, 1529, 440]\n",
      "[   0    0    0    0    0    0    0    0    0    0    0    0    0    0\n",
      "    0    0    0    0    0    0    0    0    0    0    0    0    0    0\n",
      "    0    0    0    0    0    0    0    0    0    0    0    0    0    0\n",
      "    0    0    0    0    0   88 1529  440]\n"
     ]
    },
    {
     "data": {
      "text/plain": [
       "(38150, 50)"
      ]
     },
     "execution_count": 10,
     "metadata": {},
     "output_type": "execute_result"
    }
   ],
   "source": [
    "from keras.preprocessing.text import Tokenizer\n",
    "from keras.preprocessing.sequence import pad_sequences\n",
    "# نركيب جمل التغريدات من المفردات المعالجة\n",
    "sentences = tweets['tweet'].apply(toSentence)\n",
    "print(sentences[6]) \n",
    "# عدد الكلمات الأعظمي ذات التواتر الأكبر\n",
    "# التي ستُستخدم\n",
    "max_words = 5000\n",
    "# الطول الأعظمي لشعاع الأرقام\n",
    "max_len = 50\n",
    "#   التصريح عن المجزئ \n",
    "#   مع تحديد عدد الكلمات التي ستبقى \n",
    "#  بالاعتماد على تواترها \n",
    "tokenizer = Tokenizer(num_words=max_words )\n",
    "# ملائمة المجزئ لنصوص التغريدات\n",
    "print(sentences[0])\n",
    "tokenizer.fit_on_texts(sentences)\n",
    "# تحويل النص إلى قائمة من الأرقام\n",
    "S = tokenizer.texts_to_sequences(sentences)\n",
    "print(S[0]) \n",
    "# توحيد أطوال الأشعة\n",
    "X = pad_sequences(S, maxlen=max_len)\n",
    "print(X[0]) \n",
    "X.shape"
   ]
  },
  {
   "cell_type": "code",
   "execution_count": 11,
   "metadata": {},
   "outputs": [
    {
     "name": "stdout",
     "output_type": "stream",
     "text": [
      "[   0    0    0    0    0    0    0    0    0    0    0    0    0    0\n",
      "    0    0    0    0    0    0    0    0    0    0    0    0    0    0\n",
      "    0    0    0    0    0    0    0   74  111    1  856    1   83 1935\n",
      "   49 1718  359 4899 2382  325  796  421]\n",
      "(30520, 50) (30520,)\n",
      "(7630, 50) (7630,)\n"
     ]
    }
   ],
   "source": [
    "# توليد شعاع الخرج\n",
    "y = tweets['topic']\n",
    "\n",
    "# مكنبة تقسيم البيانات إلى تدريب واختبار\n",
    "from sklearn.model_selection import train_test_split\n",
    "\n",
    "# تقسيم البيانات إلى تدريب واختبار\n",
    "X_train, X_test, y_train, y_test = train_test_split(X, y, test_size = 0.2, random_state = 0)\n",
    "print(X_train[0])\n",
    "print(X_train.shape, y_train.shape)\n",
    "print(X_test.shape, y_test.shape)"
   ]
  },
  {
   "cell_type": "code",
   "execution_count": 12,
   "metadata": {},
   "outputs": [],
   "source": [
    "# تضمين النموذج التسلسلي\n",
    "from keras.models import Sequential\n",
    "# تضمين  الطبقات اللازمة\n",
    "from keras.layers import Embedding, Dense, LSTM\n",
    "# دوال التحسين\n",
    "from tensorflow.keras.optimizers import Adam, RMSprop \n",
    "\n",
    "# التصريح عن دالة إنشاء نموذج التعلم\n",
    "# مع إعطاء قيم أولية للمعاملات المترفعة\n",
    "def create_model(embed_dim = 32, hidden_unit = 16, dropout_rate = 0.2, \n",
    "optimizers = RMSprop, learning_rate = 0.001):\n",
    "    # التصريح عن نموذج تسلسلي\n",
    "    model = Sequential()\n",
    "    # طبقة التضمين\n",
    "    model.add(Embedding(input_dim = max_words, output_dim = embed_dim, input_length = max_len))\n",
    "    # LSTM\n",
    "    model.add(LSTM(units = hidden_unit ,dropout=dropout_rate))\n",
    "    # الطبقة الأخيرة\n",
    "    model.add(Dense(units = len(classes), activation = 'softmax'))\n",
    "    # يناء النموذج\n",
    "    model.compile(loss = 'sparse_categorical_crossentropy', optimizer = optimizers(learning_rate = learning_rate), metrics = ['accuracy'])\n",
    "    # طباعة ملخص النموذج\n",
    "    print(model.summary())\n",
    " \n",
    "    return model"
   ]
  },
  {
   "cell_type": "code",
   "execution_count": 13,
   "metadata": {},
   "outputs": [
    {
     "name": "stdout",
     "output_type": "stream",
     "text": [
      "Model: \"sequential\"\n",
      "_________________________________________________________________\n",
      "Layer (type)                 Output Shape              Param #   \n",
      "=================================================================\n",
      "embedding (Embedding)        (None, 50, 32)            160000    \n",
      "_________________________________________________________________\n",
      "lstm (LSTM)                  (None, 64)                24832     \n",
      "_________________________________________________________________\n",
      "dense (Dense)                (None, 7)                 455       \n",
      "=================================================================\n",
      "Total params: 185,287\n",
      "Trainable params: 185,287\n",
      "Non-trainable params: 0\n",
      "_________________________________________________________________\n",
      "None\n",
      "Epoch 1/10\n",
      "108/108 [==============================] - 6s 17ms/step - loss: 1.4219 - accuracy: 0.5296 - val_loss: 0.7994 - val_accuracy: 0.7415\n",
      "Epoch 2/10\n",
      "108/108 [==============================] - 1s 11ms/step - loss: 0.5800 - accuracy: 0.8117 - val_loss: 0.5169 - val_accuracy: 0.8283\n",
      "Epoch 3/10\n",
      "108/108 [==============================] - 1s 11ms/step - loss: 0.3838 - accuracy: 0.8811 - val_loss: 0.4245 - val_accuracy: 0.8680\n",
      "Epoch 4/10\n",
      "108/108 [==============================] - 1s 11ms/step - loss: 0.2916 - accuracy: 0.9111 - val_loss: 0.4105 - val_accuracy: 0.8680\n",
      "Epoch 5/10\n",
      "108/108 [==============================] - 1s 11ms/step - loss: 0.2406 - accuracy: 0.9274 - val_loss: 0.3869 - val_accuracy: 0.8811\n",
      "Epoch 6/10\n",
      "108/108 [==============================] - 1s 11ms/step - loss: 0.1993 - accuracy: 0.9388 - val_loss: 0.3952 - val_accuracy: 0.8827\n",
      "Epoch 7/10\n",
      "108/108 [==============================] - 1s 11ms/step - loss: 0.1736 - accuracy: 0.9463 - val_loss: 0.3845 - val_accuracy: 0.8876\n",
      "Epoch 8/10\n",
      "108/108 [==============================] - 1s 11ms/step - loss: 0.1519 - accuracy: 0.9541 - val_loss: 0.4223 - val_accuracy: 0.8853\n",
      "Epoch 9/10\n",
      "108/108 [==============================] - 1s 11ms/step - loss: 0.1337 - accuracy: 0.9581 - val_loss: 0.4029 - val_accuracy: 0.8915\n",
      "Epoch 10/10\n",
      "108/108 [==============================] - 1s 11ms/step - loss: 0.1218 - accuracy: 0.9644 - val_loss: 0.4401 - val_accuracy: 0.8893\n"
     ]
    }
   ],
   "source": [
    "# مكتبة التصنيف\n",
    "from keras.wrappers.scikit_learn import KerasClassifier\n",
    "\n",
    "# إنشاء النموذج مع قيم المعاملات المترفعة الأمثلية\n",
    "\n",
    "model = KerasClassifier(build_fn = create_model,\n",
    "                        # معاملات النموذج\n",
    "                        dropout_rate = 0.2,\n",
    "                        embed_dim = 32,\n",
    "                        hidden_unit = 64,\n",
    "                        optimizers = Adam,\n",
    "                        learning_rate = 0.001,\n",
    "                        # معاملات التدريب\n",
    "                        epochs=10, \n",
    "                        batch_size=256,\n",
    "                        # نسبة بيانات التقييم\n",
    "                        validation_split = 0.1)\n",
    "# ملائمة النموذج مع بيانات التدريب\n",
    "model_prediction = model.fit(X_train, y_train)"
   ]
  },
  {
   "cell_type": "code",
   "execution_count": 14,
   "metadata": {},
   "outputs": [
    {
     "data": {
      "image/png": "[encoded data removed]",
      "text/plain": [
       "<Figure size 720x288 with 1 Axes>"
      ]
     },
     "metadata": {
      "needs_background": "light"
     },
     "output_type": "display_data"
    }
   ],
   "source": [
    "# معاينة دقة النموذج\n",
    "# التدريب والتقييم\n",
    "fig, ax = plt.subplots(figsize = (10, 4))\n",
    "ax.plot(model_prediction.history['accuracy'], label = 'train accuracy')\n",
    "ax.plot(model_prediction.history['val_accuracy'], label = 'val accuracy')\n",
    "ax.set_title('Model Accuracy')\n",
    "ax.set_xlabel('Epoch')\n",
    "ax.set_ylabel('Accuracy')\n",
    "ax.legend(loc = 'upper left')\n",
    "plt.show()"
   ]
  },
  {
   "cell_type": "code",
   "execution_count": 15,
   "metadata": {},
   "outputs": [
    {
     "name": "stdout",
     "output_type": "stream",
     "text": [
      "Model Accuracy on Test Data: 89.96\n",
      "Model Precision on Test Data: 89.94\n",
      "Model Recall on Test Data: 89.96\n",
      "Model F1 on Test Data: 89.91\n"
     ]
    },
    {
     "data": {
      "text/plain": [
       "array([[ 958,   17,   16,   49,   15,    5,   27],\n",
       "       [  19,  987,    8,   14,   14,   14,   18],\n",
       "       [  19,   18, 1006,   41,   15,   15,   14],\n",
       "       [  89,   23,   50,  867,   57,    9,   11],\n",
       "       [  27,   23,    6,   25,  994,    4,    7],\n",
       "       [   3,    9,    2,    3,   21, 1005,    9],\n",
       "       [  15,   15,    9,    1,    3,    7, 1047]], dtype=int64)"
      ]
     },
     "execution_count": 15,
     "metadata": {},
     "output_type": "execute_result"
    }
   ],
   "source": [
    "# مقاييس الأداء\n",
    "\n",
    "# مقياس الصحة\n",
    "from sklearn.metrics import accuracy_score \n",
    "# مقياس الدقة\n",
    "from sklearn.metrics import precision_score\n",
    "# مقياس الاستذكار\n",
    "from sklearn.metrics import recall_score\n",
    "# f1\n",
    "from sklearn.metrics import f1_score\n",
    "# مصفوفة الارتباك\n",
    "from sklearn.metrics import confusion_matrix\n",
    "# تصنيف بيانات الاختبار\n",
    "y_pred = model.predict(X_test)\n",
    "# حساب مقاييس الأداء\n",
    "accuracy = accuracy_score(y_test, y_pred)\n",
    "precision=precision_score(y_test, y_pred , average='weighted')\n",
    "recall= recall_score(y_test, y_pred, zero_division=1, average='weighted')\n",
    "f1= f1_score(y_test, y_pred, zero_division=1,  average='weighted')\n",
    "\n",
    "print('Model Accuracy on Test Data: {:.2f}'.format(accuracy*100))\n",
    "print('Model Precision on Test Data: {:.2f}'.format(precision*100))\n",
    "print('Model Recall on Test Data: {:.2f}'.format(recall*100))\n",
    "print('Model F1 on Test Data: {:.2f}'.format(f1*100))\n",
    "\n",
    "confusion_matrix(y_test, y_pred)\n"
   ]
  },
  {
   "cell_type": "code",
   "execution_count": 16,
   "metadata": {},
   "outputs": [
    {
     "data": {
      "image/png": "[encoded data removed]",
      "text/plain": [
       "<Figure size 576x432 with 2 Axes>"
      ]
     },
     "metadata": {},
     "output_type": "display_data"
    }
   ],
   "source": [
    "# رسم مصفوفة الارتباك\n",
    "import seaborn as sns\n",
    "sns.set(style = 'whitegrid')\n",
    "\n",
    "fig, ax = plt.subplots(figsize = (8,6))\n",
    "sns.heatmap(confusion_matrix(y_true = y_test, y_pred = y_pred), fmt = 'g', annot = True)\n",
    "ax.xaxis.set_label_position('top')\n",
    "ax.xaxis.set_ticks_position('top')\n",
    "ax.set_xlabel('Prediction', fontsize = 14)\n",
    "ax.set_ylabel('Actual', fontsize = 14)\n",
    "plt.show()"
   ]
  },
  {
   "cell_type": "code",
   "execution_count": 17,
   "metadata": {},
   "outputs": [
    {
     "name": "stdout",
     "output_type": "stream",
     "text": [
      "\n",
      "Accuracy: 0.90\n",
      "\n",
      "Micro Precision: 0.90\n",
      "Micro Recall: 0.90\n",
      "Micro F1-score: 0.90\n",
      "\n",
      "Macro Precision: 0.90\n",
      "Macro Recall: 0.90\n",
      "Macro F1-score: 0.90\n",
      "\n",
      "Weighted Precision: 0.90\n",
      "Weighted Recall: 0.90\n",
      "Weighted F1-score: 0.90\n",
      "\n",
      "Classification Report\n",
      "\n",
      "              precision    recall  f1-score   support\n",
      "\n",
      "    Business       0.85      0.88      0.86      1087\n",
      "     Economy       0.90      0.92      0.91      1074\n",
      "        News       0.92      0.89      0.90      1128\n",
      "    Politics       0.87      0.78      0.82      1106\n",
      "      Social       0.89      0.92      0.90      1086\n",
      "      Sports       0.95      0.96      0.95      1052\n",
      "  Technology       0.92      0.95      0.94      1097\n",
      "\n",
      "    accuracy                           0.90      7630\n",
      "   macro avg       0.90      0.90      0.90      7630\n",
      "weighted avg       0.90      0.90      0.90      7630\n",
      "\n"
     ]
    }
   ],
   "source": [
    "# مقاييس الأداء في حالة أكثر من صفين\n",
    "print('\\nAccuracy: {:.2f}\\n'.format(accuracy_score(y_test, y_pred)))\n",
    "\n",
    "print('Micro Precision: {:.2f}'.format(precision_score(y_test, y_pred, average='micro')))\n",
    "print('Micro Recall: {:.2f}'.format(recall_score(y_test, y_pred, average='micro')))\n",
    "print('Micro F1-score: {:.2f}\\n'.format(f1_score(y_test, y_pred, average='micro')))\n",
    "\n",
    "print('Macro Precision: {:.2f}'.format(precision_score(y_test, y_pred, average='macro')))\n",
    "print('Macro Recall: {:.2f}'.format(recall_score(y_test, y_pred, average='macro')))\n",
    "print('Macro F1-score: {:.2f}\\n'.format(f1_score(y_test, y_pred, average='macro')))\n",
    "\n",
    "print('Weighted Precision: {:.2f}'.format(precision_score(y_test, y_pred, average='weighted')))\n",
    "print('Weighted Recall: {:.2f}'.format(recall_score(y_test, y_pred, average='weighted')))\n",
    "print('Weighted F1-score: {:.2f}'.format(f1_score(y_test, y_pred, average='weighted')))\n",
    "\n",
    "# تقرير التصنيف\n",
    "from sklearn.metrics import classification_report\n",
    "print('\\nClassification Report\\n')\n",
    "print(classification_report(y_test, y_pred, target_names=classes))"
   ]
  },
  {
   "cell_type": "code",
   "execution_count": 18,
   "metadata": {},
   "outputs": [],
   "source": [
    "# دالة تصنيف تغريدة\n",
    "def classify_tweet(tweet):\n",
    "    # تحويل شعاع الكلمات إلى جملة\n",
    "    tweet = toSentence(tweet)\n",
    "    # وضع الجملة في شعاع\n",
    "    ar=[]\n",
    "    ar.append(tweet)\n",
    "    # تحويل النص إلى قائمة من الأرقام\n",
    "    seq = tokenizer.texts_to_sequences(ar)\n",
    "    # توحيد طول المتجهة الرقمية\n",
    "    pseq = pad_sequences(seq, maxlen=max_len)\n",
    "    # استدعاء دالة التنبؤ للنموذج\n",
    "    pred = model.predict(pseq)\n",
    "    return pred"
   ]
  },
  {
   "cell_type": "code",
   "execution_count": 19,
   "metadata": {},
   "outputs": [
    {
     "name": "stdout",
     "output_type": "stream",
     "text": [
      "{'Social': 145, 'Sports': 112, 'Economy': 47, 'Business': 30}\n",
      "salem is classified as :\n",
      "Social ( 43.41 %)\n",
      "Sports ( 33.53 %)\n",
      "Economy ( 14.07 %)\n",
      "Business ( 8.98 %)\n"
     ]
    },
    {
     "data": {
      "image/png": "[encoded data removed]",
      "text/plain": [
       "<Figure size 648x648 with 1 Axes>"
      ]
     },
     "metadata": {},
     "output_type": "display_data"
    }
   ],
   "source": [
    "# دالة تصنيف الشخص\n",
    "def classify_person(person_name):\n",
    "    # تحميل تغريدات الشخص\n",
    "    # في إطار بيانات\n",
    "    path = person_name + '.csv'\n",
    "    df = pd.read_csv(path)\n",
    "    # إنشاء قاموس لعد\n",
    "    # التغريدات من كل صف\n",
    "    classes_count=dict()\n",
    "    # إعطاء قيم ابتدائيه 0\n",
    "    for i in range(len(classes)):\n",
    "        key=classes[i]\n",
    "        classes_count[key]=0\n",
    "    # الحد الأدنى لطول التغريدة\n",
    "    min_tweet_len=5\n",
    "\n",
    "    total=0\n",
    "    for _, row in df.iterrows():\n",
    "        tweet=row['tweet']\n",
    "        # تنظيف التغريدة\n",
    "        processed_tweet=process_tweet(tweet)\n",
    "        if len(processed_tweet)>min_tweet_len:\n",
    "          # تصنيف التغريدة\n",
    "          c= classify_tweet(processed_tweet)\n",
    "          # إيجاد اسم الصف من رمزه\n",
    "          topic=le_topics.inverse_transform(c)[0]\n",
    "          # إضافة 1 للصف الموافق\n",
    "          classes_count[topic]=classes_count[topic]+1\n",
    "          total=total+1\n",
    "\n",
    "    # ترتيب الصفوف وفق العدد\n",
    "    # تنازلياً\n",
    "\n",
    "    sorted_classes = sorted(classes_count, key=classes_count.get,reverse=True)  \n",
    " \n",
    "    # القاموس النهائي\n",
    "    sorted_classes_cleaned = {}\n",
    "    min_display=total/25\n",
    "    # إهمال الصفوف ذات العدد الصغير\n",
    "    for w in sorted_classes:\n",
    "      if classes_count[w]>min_display:\n",
    "        sorted_classes_cleaned[w] = classes_count[w]\n",
    "\n",
    "    # طباعة النتائج\n",
    "    print(sorted_classes_cleaned) \n",
    "    n=0\n",
    "    for key, value in sorted_classes_cleaned.items():\n",
    "      n=n+value\n",
    "\n",
    "    print(person_name, \"is classified as :\")\n",
    "    for key, value in sorted_classes_cleaned.items():  \n",
    "      print(key, \"(\", \"{:.2f}\".format((value/n)*100) , \"%)\")\n",
    "        \n",
    "    # رسم فطيرة أعداد الصفوف\n",
    "    x = sorted_classes_cleaned.keys()\n",
    "    y = sorted_classes_cleaned.values()\n",
    "\n",
    "    import matplotlib.pyplot as plt\n",
    "    # pie\n",
    "    plt.figure(figsize=(9,9));\n",
    "    plt.title(person_name, fontdict = {'fontsize':20})\n",
    "    plt.pie(y, labels = x,autopct='%1.1f%%')\n",
    "    plt.show()\n",
    "# مثال\n",
    "classify_person(\"salem\")"
   ]
  }
 ],
 "metadata": {
  "interpreter": {
   "hash": "570feb405e2e27c949193ac68f46852414290d515b0ba6e5d90d076ed2284471"
  },
  "kernelspec": {
   "display_name": "Python 3.8.10 64-bit",
   "language": "python",
   "name": "python3"
  },
  "language_info": {
   "codemirror_mode": {
    "name": "ipython",
    "version": 3
   },
   "file_extension": ".py",
   "mimetype": "text/x-python",
   "name": "python",
   "nbconvert_exporter": "python",
   "pygments_lexer": "ipython3",
   "version": "3.8.10"
  },
  "orig_nbformat": 4
 },
 "nbformat": 4,
 "nbformat_minor": 2
}
